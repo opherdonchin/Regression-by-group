{
  "cells": [
    {
      "cell_type": "markdown",
      "metadata": {
        "colab_type": "text",
        "id": "view-in-github"
      },
      "source": [
        "<a href=\"https://colab.research.google.com/github/opherdonchin/Regression-by-group/blob/main/Regression_analysis.ipynb\" target=\"_parent\"><img src=\"https://colab.research.google.com/assets/colab-badge.svg\" alt=\"Open In Colab\"/></a>"
      ]
    },
    {
      "cell_type": "markdown",
      "metadata": {},
      "source": [
        "# Sample homogeneous and intercept models for slope of eyes and aftereffects"
      ]
    },
    {
      "cell_type": "markdown",
      "metadata": {},
      "source": [
        "## Short description\n",
        "\n",
        "The central idea is that eye movements reflect the implicit adaptation that is also revealed in the aftereffects. Thus, these two should be correlated. \n",
        "We measure the relationship using regression (I suppose we could have done correlation, eh?) and look at the slope of the regession line. However, because\n",
        "both measures are quite noisy, we choose to have an error model for both the independent and dependent variables.\n",
        "\n",
        "There are 2 different conditions in terms of what is on the screen (landmark or no landmarks) and each of those has multiple delay conditions (2 for landmarks (I think) \n",
        "and 3 for no landmarks (or the other way around)). The idea is to build separate (but identical) models for each of these 5 conditions and for each one to fit both an\n",
        "intercept and homogeneous model.\n",
        "\n",
        "So, there are two questions:\n",
        "\n",
        "1. Is there a reason to prefer the intercept model to the homogeneous model?\n",
        "2. Do any of the conditions show a relationship and do any show a lack of relationship?"
      ]
    },
    {
      "cell_type": "markdown",
      "metadata": {
        "id": "NLkOYvrHEwC9"
      },
      "source": [
        "I built this using the outline in this page: [Bayesian Linear Regression Using PyMC3](https://ostwalprasad.github.io/machine-learning/Bayesian-Linear-Regression-using-PyMC3.html)"
      ]
    },
    {
      "cell_type": "markdown",
      "metadata": {},
      "source": [
        "## Imports"
      ]
    },
    {
      "cell_type": "code",
      "execution_count": 1,
      "metadata": {
        "colab": {
          "base_uri": "https://localhost:8080/"
        },
        "id": "Ayg6FQM_yrbr",
        "outputId": "461b3125-fdf1-4bd3-f598-2924fc9f1434"
      },
      "outputs": [],
      "source": [
        "import sys\n",
        "IN_COLAB = 'google.colab' in sys.modules\n",
        "if IN_COLAB:\n",
        "    !pip install pymc3\n",
        "    !pip install seaborn\n",
        "    !pip install arviz"
      ]
    },
    {
      "cell_type": "code",
      "execution_count": 2,
      "metadata": {
        "id": "8FSoipvMv8Ue"
      },
      "outputs": [],
      "source": [
        "# Imports\n",
        "# Python\n",
        "import os.path\n",
        "import pickle\n",
        "\n",
        "# Maths\n",
        "import numpy as np\n",
        "import pandas as pd\n",
        "import scipy.stats as stats\n",
        "\n",
        "# Graphs\n",
        "import matplotlib.pyplot as plt\n",
        "import seaborn as sns\n",
        "\n",
        "# Bayes\n",
        "import aesara.tensor as tt\n",
        "import xarray as xr\n",
        "import pymc as pm\n",
        "import arviz as az\n"
      ]
    },
    {
      "cell_type": "code",
      "execution_count": 3,
      "metadata": {
        "colab": {
          "base_uri": "https://localhost:8080/"
        },
        "id": "5EcoHjdV_WjP",
        "outputId": "01adc3a1-d75b-4364-80f3-05bfea811ad6"
      },
      "outputs": [
        {
          "name": "stdout",
          "output_type": "stream",
          "text": [
            "Running on the PyMC3 v4.0.1\n"
          ]
        }
      ],
      "source": [
        "print('Running on the PyMC3 v{}'.format(pm.__version__))\n"
      ]
    },
    {
      "cell_type": "markdown",
      "metadata": {},
      "source": [
        "## Load data"
      ]
    },
    {
      "cell_type": "code",
      "execution_count": 4,
      "metadata": {
        "id": "SfoO1C0k2rod"
      },
      "outputs": [],
      "source": [
        "# url_impl_trials = 'https://raw.githubusercontent.com/opherdonchin/Regression-by-group/main/dataExplicit.csv'\n",
        "# url_expl_trials = 'https://raw.githubusercontent.com/opherdonchin/Regression-by-group/main/dataExplicit.csv'\n",
        "# url_impl = 'https://raw.githubusercontent.com/opherdonchin/Regression-by-group/main/implAndAfter_NoLandmarks.csv'\n",
        "# url_expl = 'https://raw.githubusercontent.com/opherdonchin/Regression-by-group/main/implAndAfter_NoLandmarks.csv'\n",
        "# url_landmarks = 'https://raw.githubusercontent.com/opherdonchin/Regression-by-group/main/data/dataLandmarks.csv'\n",
        "# url_no_landmarks = 'https://raw.githubusercontent.com/opherdonchin/Regression-by-group/main/data/dataNoLandmarks.csv'\n",
        "url_landmarks = 'data\\dataLandmarks.csv'\n",
        "url_no_landmarks = 'data\\dataNoLandmarks.csv'\n",
        "\n",
        "landmark_data = pd.read_csv(url_landmarks, sep=\",\", on_bad_lines='skip')\n",
        "no_landmark_data = pd.read_csv(url_no_landmarks, sep=\",\", on_bad_lines='skip')"
      ]
    },
    {
      "cell_type": "code",
      "execution_count": 5,
      "metadata": {
        "colab": {
          "base_uri": "https://localhost:8080/",
          "height": 206
        },
        "id": "iObZpQBlCCKI",
        "outputId": "155fb167-8369-4913-a837-77a8735b2bc3"
      },
      "outputs": [
        {
          "data": {
            "text/html": [
              "<div>\n",
              "<style scoped>\n",
              "    .dataframe tbody tr th:only-of-type {\n",
              "        vertical-align: middle;\n",
              "    }\n",
              "\n",
              "    .dataframe tbody tr th {\n",
              "        vertical-align: top;\n",
              "    }\n",
              "\n",
              "    .dataframe thead th {\n",
              "        text-align: right;\n",
              "    }\n",
              "</style>\n",
              "<table border=\"1\" class=\"dataframe\">\n",
              "  <thead>\n",
              "    <tr style=\"text-align: right;\">\n",
              "      <th></th>\n",
              "      <th>eyeHandDiff</th>\n",
              "      <th>eyes</th>\n",
              "      <th>afterEffect</th>\n",
              "      <th>subjectN</th>\n",
              "      <th>groups</th>\n",
              "    </tr>\n",
              "  </thead>\n",
              "  <tbody>\n",
              "    <tr>\n",
              "      <th>0</th>\n",
              "      <td>10.082297</td>\n",
              "      <td>-31.546520</td>\n",
              "      <td>-8.875644</td>\n",
              "      <td>1</td>\n",
              "      <td>1</td>\n",
              "    </tr>\n",
              "    <tr>\n",
              "      <th>1</th>\n",
              "      <td>-10.012122</td>\n",
              "      <td>-27.271097</td>\n",
              "      <td>-3.625990</td>\n",
              "      <td>1</td>\n",
              "      <td>1</td>\n",
              "    </tr>\n",
              "    <tr>\n",
              "      <th>2</th>\n",
              "      <td>-33.441301</td>\n",
              "      <td>14.607681</td>\n",
              "      <td>-15.002860</td>\n",
              "      <td>1</td>\n",
              "      <td>1</td>\n",
              "    </tr>\n",
              "    <tr>\n",
              "      <th>3</th>\n",
              "      <td>-95.241374</td>\n",
              "      <td>57.084439</td>\n",
              "      <td>-11.144006</td>\n",
              "      <td>1</td>\n",
              "      <td>1</td>\n",
              "    </tr>\n",
              "    <tr>\n",
              "      <th>4</th>\n",
              "      <td>-121.630474</td>\n",
              "      <td>99.886312</td>\n",
              "      <td>-17.726672</td>\n",
              "      <td>1</td>\n",
              "      <td>1</td>\n",
              "    </tr>\n",
              "  </tbody>\n",
              "</table>\n",
              "</div>"
            ],
            "text/plain": [
              "   eyeHandDiff       eyes  afterEffect  subjectN  groups\n",
              "0    10.082297 -31.546520    -8.875644         1       1\n",
              "1   -10.012122 -27.271097    -3.625990         1       1\n",
              "2   -33.441301  14.607681   -15.002860         1       1\n",
              "3   -95.241374  57.084439   -11.144006         1       1\n",
              "4  -121.630474  99.886312   -17.726672         1       1"
            ]
          },
          "execution_count": 5,
          "metadata": {},
          "output_type": "execute_result"
        }
      ],
      "source": [
        "landmark_data.head()"
      ]
    },
    {
      "cell_type": "markdown",
      "metadata": {},
      "source": [
        "## Create list of models"
      ]
    },
    {
      "cell_type": "code",
      "execution_count": 5,
      "metadata": {},
      "outputs": [],
      "source": [
        "landmark_data[\"landmarks\"] = True\n",
        "no_landmark_data[\"landmarks\"] = False\n",
        "data = pd.concat([landmark_data, no_landmark_data], ignore_index=True)\n",
        "\n",
        "independent_variables = ['eyeHandDiff', 'eyes']\n",
        "x0_by_variable = [0, -30]\n",
        "y0_by_variable = [0, 0]\n",
        "\n",
        "b0_strings = [\"intercept\", \"homogeneous\"]\n",
        "\n",
        "model_list = {b0_string: [] for b0_string in b0_strings}\n",
        "for independent_variable,x0,y0 in zip(independent_variables,x0_by_variable,y0_by_variable):\n",
        "    \n",
        "    for landmarks in [True, False]:\n",
        "        landmark_string = \"landmarks\" if landmarks else \"no landmarks\"\n",
        "        this_landmark_data = data.loc[data[\"landmarks\"]==landmarks,:]\n",
        "        these_groups = this_landmark_data[\"groups\"].unique()\n",
        "        for group in these_groups:\n",
        "            this_group_data = this_landmark_data.loc[data[\"groups\"]==group,:]\n",
        "            x = this_group_data[independent_variable]\n",
        "            y = this_group_data['afterEffect']\n",
        "            s = this_group_data['subjectN']\n",
        "            \n",
        "            for b0_string in b0_strings:\n",
        "                model_name = f'{landmark_string} group {group} {b0_string} using {independent_variable}'\n",
        "                model_list[b0_string].append({\n",
        "                    'name': model_name,\n",
        "                    'group': group,\n",
        "                    'landmarks': landmark_string,\n",
        "                    'variable': independent_variable,\n",
        "                    'x': x,\n",
        "                    'y': y,\n",
        "                    's': s,\n",
        "                    'x0': x0,\n",
        "                    'y0': y0,\n",
        "                    'use_b0': b0_string == b0_strings[0]\n",
        "                })\n",
        "\n",
        "model_list_out = open(\"model_list.pickle\",\"wb\")\n",
        "pickle.dump(model_list, model_list_out)"
      ]
    },
    {
      "cell_type": "markdown",
      "metadata": {},
      "source": [
        "## Define model"
      ]
    },
    {
      "cell_type": "code",
      "execution_count": 25,
      "metadata": {
        "id": "RyCKT_VQarOg"
      },
      "outputs": [],
      "source": [
        "def regression_model(y,x,s,y0,x0,use_beta0):\n",
        "  s_idx, s_vals = pd.factorize(s, sort=True)\n",
        "  coords = {\"subject\": s_vals, \"points\":np.arange(len(x))}\n",
        "  with pm.Model(coords=coords) as model:\n",
        "    # Data\n",
        "    s_idx = pm.Data(\"s_idx\", s_idx, dims=\"points\")\n",
        "    x0 = pm.Data(\"x0\", x0)\n",
        "    y0 = pm.Data(\"y0\", y0)\n",
        "    # Priors\n",
        "    beta = pm.Normal('beta', mu=0, sigma=10)\n",
        "    if use_beta0:\n",
        "      beta0 = pm.Normal('beta0', mu=0, sigma=30)\n",
        "    y_sigma = pm.HalfNormal(\"y_sigma\", sigma=5, dims=\"subject\")\n",
        "    x_sigma = pm.HalfNormal(\"x_sigma\", sigma=5, dims=\"subject\")\n",
        "    ys_sigma = pm.HalfNormal(\"ys_sigma\", sigma=5)\n",
        "    # Latent variables\n",
        "    xs = pm.Normal('xs', mu=0, sigma=30, dims=\"subject\")\n",
        "    if use_beta0:\n",
        "      ys_mu = pm.Deterministic(\"ys_mu\", beta*(xs-x0) + beta0+y0, dims=\"subject\")\n",
        "    else:\n",
        "      ys_mu = pm.Deterministic(\"ys_mu\", beta*(xs-x0) + y0, dims=\"subject\")\n",
        "    \n",
        "    ys = pm.Normal('ys', mu=ys_mu, sigma=ys_sigma, dims=\"subject\")\n",
        "    # Likelihood \n",
        "    obs_y = pm.Normal('obs_y', mu=ys[s_idx], sigma=y_sigma[s_idx], observed=y, dims=\"points\")\n",
        "    obs_x = pm.Normal('obs_x', mu=xs[s_idx], sigma=x_sigma[s_idx], observed=x, dims=\"points\")\n",
        "  return model\n"
      ]
    },
    {
      "cell_type": "markdown",
      "metadata": {},
      "source": [
        "## Sample all models"
      ]
    },
    {
      "cell_type": "code",
      "execution_count": null,
      "metadata": {
        "colab": {
          "base_uri": "https://localhost:8080/",
          "height": 1000
        },
        "id": "Qx5LycTHCH1V",
        "outputId": "582b5b9e-db57-4338-a32a-a86205921774"
      },
      "outputs": [],
      "source": [
        "all_idata = {b0_string: [] for b0_string in b0_strings}\n",
        "num_models = len(model_list[b0_strings[0]])\n",
        "\n",
        "do_models = np.arange(0,num_models)\n",
        "for b0_string in b0_strings:\n",
        "  for i,m in enumerate(model_list[b0_string]):\n",
        "    print('************************')\n",
        "    trace_path = f'samples\\\\y_sigma 02_07 {m[\"name\"]}'\n",
        "    m['trace_path'] = trace_path\n",
        "    model_description = f'{m[\"name\"]} ({i}/{num_models} for {b0_string} model)'\n",
        "    if not os.path.isfile(trace_path):\n",
        "      print(f'Resampling {model_description}')\n",
        "      model = regression_model(m[\"y\"],m[\"x\"],m[\"s\"],m[\"y0\"],m[\"x0\"],m[\"use_b0\"])\n",
        "      with model:\n",
        "        trace = pm.sample(draws=4000, tune=3000, cores=3, target_accept=0.95, return_inferencedata=True)\n",
        "      idata = az.from_pymc3(model=model, trace=trace)\n",
        "      \n",
        "      print(f'Saving samples for {m[\"name\"]} to {trace_path}')\n",
        "      az.to_netcdf(idata, trace_path)\n",
        "    else:\n",
        "      print(f'Loading samples for {model_description} from {trace_path}')\n",
        "      idata = az.from_netcdf(trace_path)\n",
        "    \n",
        "    all_idata[b0_string].append(idata)\n",
        "    print(f'Done getting {m[\"name\"]} samples')\n",
        "  "
      ]
    },
    {
      "cell_type": "markdown",
      "metadata": {},
      "source": [
        "### Show traces"
      ]
    },
    {
      "cell_type": "code",
      "execution_count": null,
      "metadata": {
        "colab": {
          "base_uri": "https://localhost:8080/",
          "height": 1000
        },
        "id": "jwU8jqo2CMfu",
        "outputId": "6dbf79da-e66b-4fa9-9055-d192b17678b2"
      },
      "outputs": [],
      "source": [
        "for i in range(num_models):\n",
        "  for b0_string in b0_strings:\n",
        "    trace = all_idata[b0_string][i]\n",
        "    m = model_list[b0_string][i]\n",
        "    ax = az.plot_trace(trace)\n",
        "    ax[0][0].get_figure().suptitle(f'{m[\"name\"]}')"
      ]
    },
    {
      "cell_type": "markdown",
      "metadata": {},
      "source": [
        "## Plot regressions"
      ]
    },
    {
      "cell_type": "code",
      "execution_count": 7,
      "metadata": {},
      "outputs": [
        {
          "data": {
            "text/plain": [
              "<AxesSubplot:>"
            ]
          },
          "execution_count": 7,
          "metadata": {},
          "output_type": "execute_result"
        },
        {
          "data": {
            "image/png": "[encoded data removed]",
            "text/plain": [
              "<Figure size 432x288 with 1 Axes>"
            ]
          },
          "metadata": {
            "needs_background": "light"
          },
          "output_type": "display_data"
        }
      ],
      "source": [
        "def plot_regression(data: az.InferenceData, m : pd.DataFrame, ax: plt.Axes = None):\n",
        "    post = data.posterior\n",
        "\n",
        "    post_mean = post[[\"xs\",\"ys\"]].mean(dim=['chain', 'draw'])\n",
        "    post_hdi = az.hdi(post[[\"xs\",\"ys\"]])\n",
        "\n",
        "    x_mean = post_mean[\"xs\"]\n",
        "    y_mean = post_mean[\"ys\"]\n",
        "    x_upper = post_hdi[\"xs\"].sel({\"hdi\":\"higher\"}) - x_mean\n",
        "    x_lower = x_mean - post_hdi[\"xs\"].sel({\"hdi\":\"lower\"})\n",
        "    y_upper = post_hdi[\"ys\"].sel({\"hdi\":\"higher\"}) - y_mean\n",
        "    y_lower = y_mean - post_hdi[\"ys\"].sel({\"hdi\":\"lower\"})\n",
        "        \n",
        "    if ax is None:\n",
        "        ax = plt.gca()\n",
        "\n",
        "    ax.errorbar(x_mean, y_mean, xerr=[x_lower, x_upper], yerr=[y_lower, y_upper], fmt='o')\n",
        "\n",
        "    x_hat = np.linspace(np.min(x_mean), np.max(x_mean), 50)\n",
        "    x0 = m[\"x0\"]\n",
        "    y0 = m[\"y0\"]\n",
        "    beta = post[\"beta\"].mean().to_numpy()\n",
        "    if m[\"use_b0\"]:\n",
        "        beta0 = post[\"beta0\"].mean().to_numpy()\n",
        "    else:\n",
        "        beta0 = 0\n",
        "\n",
        "    y_hat = (x_hat-x0)*beta+beta0 + y0\n",
        "\n",
        "    ax.plot(x_hat, y_hat)\n",
        "\n",
        "    # az.plot_hdi(post[\"xs\"], post[\"ys\"])\n",
        "\n",
        "    beta_trace = post[\"beta\"]\n",
        "    if m[\"use_b0\"]:\n",
        "        beta0_trace = post[\"beta0\"]\n",
        "    else:\n",
        "        beta0_trace = 0\n",
        "\n",
        "    y_lower = list()\n",
        "    y_higher = list()\n",
        "    for x_mod in x_hat:\n",
        "        y_mod_trace = beta_trace*(x_mod-x0) + beta0_trace + y0\n",
        "        y_mod_hdi = az.hdi(y_mod_trace).to_array().to_numpy()\n",
        "        y_lower.append(y_mod_hdi[0][0])\n",
        "        y_higher.append(y_mod_hdi[0][1])\n",
        "    ax.fill_between(x_hat, y_lower, y_higher, color='grey', alpha=0.2)\n",
        "    return ax\n",
        "\n",
        "plot_regression(all_idata['intercept'][0], model_list['intercept'][0])"
      ]
    },
    {
      "cell_type": "code",
      "execution_count": null,
      "metadata": {},
      "outputs": [],
      "source": [
        "num_models_per_variable = int(num_models/2)\n",
        "num_variables = 2\n",
        "\n",
        "for var_num in range(num_variables):\n",
        "  fig, ax = plt.subplots(nrows=num_models_per_variable, ncols=2, figsize=(15, 20), sharex=True, sharey=True)\n",
        "  for i in range(num_models_per_variable):\n",
        "    mi = var_num*num_models_per_variable+i\n",
        "    for j,b0_string in enumerate(b0_strings):\n",
        "      trace = all_idata[b0_string][mi]\n",
        "      m = model_list[b0_string][mi]\n",
        "      plot_regression(data=trace, m=m, ax=ax[i,j])\n",
        "      ax[i,j].grid()\n",
        "      ax[i,j].set_title(m[\"name\"])\n"
      ]
    },
    {
      "cell_type": "markdown",
      "metadata": {},
      "source": [
        "## Calculate log likelihood for `ys`"
      ]
    },
    {
      "cell_type": "code",
      "execution_count": 8,
      "metadata": {},
      "outputs": [],
      "source": [
        "def calc_ll(idata):\n",
        "    x = (idata.observed_data[\"obs_x\"]-m[\"x0\"])\n",
        "    y = idata.observed_data[\"obs_y\"]-m[\"y0\"]\n",
        "    s_idx = idata.constant_data[\"s_idx\"]\n",
        "    xs = idata.posterior[\"xs\"]\n",
        "    ys = idata.posterior[\"ys\"]\n",
        "    ys_mu = idata.posterior[\"ys_mu\"]\n",
        "    x_sigma = idata.posterior[\"x_sigma\"]\n",
        "    y_sigma = idata.posterior[\"y_sigma\"]\n",
        "    ys_sigma = idata.posterior[\"ys_sigma\"]\n",
        "\n",
        "\n",
        "    ys_mu, ys_sigma = xr.broadcast(ys_mu, ys_sigma)\n",
        "    ll_ys = stats.norm(ys_mu, ys_sigma).logpdf(ys)\n",
        "\n",
        "    ll_x = np.zeros_like(ll_ys)\n",
        "    ll_y = np.zeros_like(ll_ys)\n",
        "\n",
        "    x_subj = x.groupby(s_idx)\n",
        "    y_subj = y.groupby(s_idx)\n",
        "    coords = idata.posterior.coords\n",
        "    for c in coords[\"chain\"]:\n",
        "        print(f'Chain: {c.item()}')\n",
        "        for d in coords[\"draw\"]:\n",
        "            for s in range(len(x_subj)):\n",
        "                ll_x[c,d,s] = stats.norm(xs[c, d, s], x_sigma[c, d, s]).logpdf(x_subj[s]).sum()\n",
        "                ll_y[c,d,s] = stats.norm(ys[c, d, s], y_sigma[c, d, s]).logpdf(y_subj[s]).sum()\n",
        "\n",
        "    ll = ll_ys + ll_x + ll_y\n",
        "\n",
        "    return xr.DataArray(ll, coords=ys.coords, dims=ys.dims)\n",
        "\n",
        "\n"
      ]
    },
    {
      "cell_type": "code",
      "execution_count": null,
      "metadata": {},
      "outputs": [],
      "source": [
        "\n",
        "for mi in range(num_models):\n",
        "    for j,b0_string in enumerate(b0_strings):\n",
        "        m = model_list[b0_string][mi]\n",
        "        print(f'{b0_string} Model m[\"name\"] ({mi} / {num_models} for {j})')\n",
        "        idata = all_idata[b0_string][mi]\n",
        "        m = model_list[b0_string][mi]\n",
        "        if not 'ys' in idata['log_likelihood'].variables.keys():\n",
        "            ll = calc_ll(idata)\n",
        "            idata.log_likelihood[\"ys\"] = ll\n",
        "            idata.sample_stats['log_likelihood'] = ll\n",
        "            print(f'Saving log likelihood for ys for {m[\"name\"]} to {m['trace_path']}')\n",
        "            az.to_netcdf(idata, ,['trace_path'])\n",
        "        else:\n",
        "            print(f'Log likelihood for ys exists for {m['name']}')\n",
        "            \n",
        "\n"
      ]
    },
    {
      "cell_type": "markdown",
      "metadata": {},
      "source": [
        "## Calculate WAIC from log likelihood"
      ]
    },
    {
      "cell_type": "code",
      "execution_count": null,
      "metadata": {},
      "outputs": [],
      "source": [
        "for mi in range(num_models):\n",
        "    for j,b0_string in enumerate(b0_strings):\n",
        "        m = model_list[b0_string][mi]\n",
        "        print('************************')\n",
        "        print(f'{b0_string} model {mi}: {m[\"name\"]}')\n",
        "        idata = all_idata[b0_string][mi]\n",
        "        \n",
        "        print(az.waic(idata, pointwise=True))\n"
      ]
    },
    {
      "cell_type": "code",
      "execution_count": 20,
      "metadata": {
        "colab": {
          "base_uri": "https://localhost:8080/"
        },
        "id": "Tqjp6vRxWaTE",
        "outputId": "c014e7d9-7582-48cd-f4ab-e511834422fe"
      },
      "outputs": [
        {
          "name": "stdout",
          "output_type": "stream",
          "text": [
            "intercept model 0: landmarks group 1 intercept using eyeHandDiff\n",
            "homogeneous model 0: landmarks group 1 homogeneous using eyeHandDiff\n"
          ]
        },
        {
          "name": "stderr",
          "output_type": "stream",
          "text": [
            "c:\\miniconda3\\envs\\Regression\\lib\\site-packages\\arviz\\stats\\stats.py:145: UserWarning: The default method used to estimate the weights for each model,has changed from BB-pseudo-BMA to stacking\n",
            "  warnings.warn(\n",
            "c:\\miniconda3\\envs\\Regression\\lib\\site-packages\\arviz\\stats\\stats.py:655: UserWarning: Estimated shape parameter of Pareto distribution is greater than 0.7 for one or more samples. You should consider using a more robust model, this is because importance sampling is less likely to work well if the marginal posterior and LOO posterior are very different. This is more likely to happen with a non-robust model and highly influential observations.\n",
            "  warnings.warn(\n",
            "c:\\miniconda3\\envs\\Regression\\lib\\site-packages\\arviz\\stats\\stats.py:212: FutureWarning: The frame.append method is deprecated and will be removed from pandas in a future version. Use pandas.concat instead.\n",
            "  ics = ics.append([ic_func(dataset, pointwise=True, scale=scale)])\n",
            "c:\\miniconda3\\envs\\Regression\\lib\\site-packages\\arviz\\stats\\stats.py:655: UserWarning: Estimated shape parameter of Pareto distribution is greater than 0.7 for one or more samples. You should consider using a more robust model, this is because importance sampling is less likely to work well if the marginal posterior and LOO posterior are very different. This is more likely to happen with a non-robust model and highly influential observations.\n",
            "  warnings.warn(\n",
            "c:\\miniconda3\\envs\\Regression\\lib\\site-packages\\arviz\\stats\\stats.py:212: FutureWarning: The frame.append method is deprecated and will be removed from pandas in a future version. Use pandas.concat instead.\n",
            "  ics = ics.append([ic_func(dataset, pointwise=True, scale=scale)])\n",
            "c:\\miniconda3\\envs\\Regression\\lib\\site-packages\\arviz\\stats\\stats.py:145: UserWarning: The default method used to estimate the weights for each model,has changed from BB-pseudo-BMA to stacking\n",
            "  warnings.warn(\n",
            "c:\\miniconda3\\envs\\Regression\\lib\\site-packages\\arviz\\stats\\stats.py:655: UserWarning: Estimated shape parameter of Pareto distribution is greater than 0.7 for one or more samples. You should consider using a more robust model, this is because importance sampling is less likely to work well if the marginal posterior and LOO posterior are very different. This is more likely to happen with a non-robust model and highly influential observations.\n",
            "  warnings.warn(\n"
          ]
        },
        {
          "name": "stdout",
          "output_type": "stream",
          "text": [
            "intercept model 1: landmarks group 2 intercept using eyeHandDiff\n",
            "homogeneous model 1: landmarks group 2 homogeneous using eyeHandDiff\n"
          ]
        },
        {
          "name": "stderr",
          "output_type": "stream",
          "text": [
            "c:\\miniconda3\\envs\\Regression\\lib\\site-packages\\arviz\\stats\\stats.py:212: FutureWarning: The frame.append method is deprecated and will be removed from pandas in a future version. Use pandas.concat instead.\n",
            "  ics = ics.append([ic_func(dataset, pointwise=True, scale=scale)])\n",
            "c:\\miniconda3\\envs\\Regression\\lib\\site-packages\\arviz\\stats\\stats.py:655: UserWarning: Estimated shape parameter of Pareto distribution is greater than 0.7 for one or more samples. You should consider using a more robust model, this is because importance sampling is less likely to work well if the marginal posterior and LOO posterior are very different. This is more likely to happen with a non-robust model and highly influential observations.\n",
            "  warnings.warn(\n",
            "c:\\miniconda3\\envs\\Regression\\lib\\site-packages\\arviz\\stats\\stats.py:212: FutureWarning: The frame.append method is deprecated and will be removed from pandas in a future version. Use pandas.concat instead.\n",
            "  ics = ics.append([ic_func(dataset, pointwise=True, scale=scale)])\n",
            "c:\\miniconda3\\envs\\Regression\\lib\\site-packages\\arviz\\stats\\stats.py:145: UserWarning: The default method used to estimate the weights for each model,has changed from BB-pseudo-BMA to stacking\n",
            "  warnings.warn(\n",
            "c:\\miniconda3\\envs\\Regression\\lib\\site-packages\\arviz\\stats\\stats.py:655: UserWarning: Estimated shape parameter of Pareto distribution is greater than 0.7 for one or more samples. You should consider using a more robust model, this is because importance sampling is less likely to work well if the marginal posterior and LOO posterior are very different. This is more likely to happen with a non-robust model and highly influential observations.\n",
            "  warnings.warn(\n"
          ]
        },
        {
          "name": "stdout",
          "output_type": "stream",
          "text": [
            "intercept model 2: landmarks group 3 intercept using eyeHandDiff\n",
            "homogeneous model 2: landmarks group 3 homogeneous using eyeHandDiff\n"
          ]
        },
        {
          "name": "stderr",
          "output_type": "stream",
          "text": [
            "c:\\miniconda3\\envs\\Regression\\lib\\site-packages\\arviz\\stats\\stats.py:212: FutureWarning: The frame.append method is deprecated and will be removed from pandas in a future version. Use pandas.concat instead.\n",
            "  ics = ics.append([ic_func(dataset, pointwise=True, scale=scale)])\n",
            "c:\\miniconda3\\envs\\Regression\\lib\\site-packages\\arviz\\stats\\stats.py:655: UserWarning: Estimated shape parameter of Pareto distribution is greater than 0.7 for one or more samples. You should consider using a more robust model, this is because importance sampling is less likely to work well if the marginal posterior and LOO posterior are very different. This is more likely to happen with a non-robust model and highly influential observations.\n",
            "  warnings.warn(\n",
            "c:\\miniconda3\\envs\\Regression\\lib\\site-packages\\arviz\\stats\\stats.py:212: FutureWarning: The frame.append method is deprecated and will be removed from pandas in a future version. Use pandas.concat instead.\n",
            "  ics = ics.append([ic_func(dataset, pointwise=True, scale=scale)])\n"
          ]
        },
        {
          "name": "stdout",
          "output_type": "stream",
          "text": [
            "intercept model 3: no landmarks group 1 intercept using eyeHandDiff\n",
            "homogeneous model 3: no landmarks group 1 homogeneous using eyeHandDiff\n"
          ]
        },
        {
          "name": "stderr",
          "output_type": "stream",
          "text": [
            "c:\\miniconda3\\envs\\Regression\\lib\\site-packages\\arviz\\stats\\stats.py:145: UserWarning: The default method used to estimate the weights for each model,has changed from BB-pseudo-BMA to stacking\n",
            "  warnings.warn(\n",
            "c:\\miniconda3\\envs\\Regression\\lib\\site-packages\\arviz\\stats\\stats.py:655: UserWarning: Estimated shape parameter of Pareto distribution is greater than 0.7 for one or more samples. You should consider using a more robust model, this is because importance sampling is less likely to work well if the marginal posterior and LOO posterior are very different. This is more likely to happen with a non-robust model and highly influential observations.\n",
            "  warnings.warn(\n",
            "c:\\miniconda3\\envs\\Regression\\lib\\site-packages\\arviz\\stats\\stats.py:212: FutureWarning: The frame.append method is deprecated and will be removed from pandas in a future version. Use pandas.concat instead.\n",
            "  ics = ics.append([ic_func(dataset, pointwise=True, scale=scale)])\n",
            "c:\\miniconda3\\envs\\Regression\\lib\\site-packages\\arviz\\stats\\stats.py:655: UserWarning: Estimated shape parameter of Pareto distribution is greater than 0.7 for one or more samples. You should consider using a more robust model, this is because importance sampling is less likely to work well if the marginal posterior and LOO posterior are very different. This is more likely to happen with a non-robust model and highly influential observations.\n",
            "  warnings.warn(\n",
            "c:\\miniconda3\\envs\\Regression\\lib\\site-packages\\arviz\\stats\\stats.py:212: FutureWarning: The frame.append method is deprecated and will be removed from pandas in a future version. Use pandas.concat instead.\n",
            "  ics = ics.append([ic_func(dataset, pointwise=True, scale=scale)])\n"
          ]
        },
        {
          "name": "stdout",
          "output_type": "stream",
          "text": [
            "intercept model 4: no landmarks group 2 intercept using eyeHandDiff\n",
            "homogeneous model 4: no landmarks group 2 homogeneous using eyeHandDiff\n"
          ]
        },
        {
          "name": "stderr",
          "output_type": "stream",
          "text": [
            "c:\\miniconda3\\envs\\Regression\\lib\\site-packages\\arviz\\stats\\stats.py:145: UserWarning: The default method used to estimate the weights for each model,has changed from BB-pseudo-BMA to stacking\n",
            "  warnings.warn(\n",
            "c:\\miniconda3\\envs\\Regression\\lib\\site-packages\\arviz\\stats\\stats.py:655: UserWarning: Estimated shape parameter of Pareto distribution is greater than 0.7 for one or more samples. You should consider using a more robust model, this is because importance sampling is less likely to work well if the marginal posterior and LOO posterior are very different. This is more likely to happen with a non-robust model and highly influential observations.\n",
            "  warnings.warn(\n",
            "c:\\miniconda3\\envs\\Regression\\lib\\site-packages\\arviz\\stats\\stats.py:212: FutureWarning: The frame.append method is deprecated and will be removed from pandas in a future version. Use pandas.concat instead.\n",
            "  ics = ics.append([ic_func(dataset, pointwise=True, scale=scale)])\n",
            "c:\\miniconda3\\envs\\Regression\\lib\\site-packages\\arviz\\stats\\stats.py:655: UserWarning: Estimated shape parameter of Pareto distribution is greater than 0.7 for one or more samples. You should consider using a more robust model, this is because importance sampling is less likely to work well if the marginal posterior and LOO posterior are very different. This is more likely to happen with a non-robust model and highly influential observations.\n",
            "  warnings.warn(\n",
            "c:\\miniconda3\\envs\\Regression\\lib\\site-packages\\arviz\\stats\\stats.py:212: FutureWarning: The frame.append method is deprecated and will be removed from pandas in a future version. Use pandas.concat instead.\n",
            "  ics = ics.append([ic_func(dataset, pointwise=True, scale=scale)])\n"
          ]
        },
        {
          "name": "stdout",
          "output_type": "stream",
          "text": [
            "intercept model 5: landmarks group 1 intercept using eyes\n",
            "homogeneous model 5: landmarks group 1 homogeneous using eyes\n"
          ]
        },
        {
          "name": "stderr",
          "output_type": "stream",
          "text": [
            "c:\\miniconda3\\envs\\Regression\\lib\\site-packages\\arviz\\stats\\stats.py:145: UserWarning: The default method used to estimate the weights for each model,has changed from BB-pseudo-BMA to stacking\n",
            "  warnings.warn(\n",
            "c:\\miniconda3\\envs\\Regression\\lib\\site-packages\\arviz\\stats\\stats.py:655: UserWarning: Estimated shape parameter of Pareto distribution is greater than 0.7 for one or more samples. You should consider using a more robust model, this is because importance sampling is less likely to work well if the marginal posterior and LOO posterior are very different. This is more likely to happen with a non-robust model and highly influential observations.\n",
            "  warnings.warn(\n",
            "c:\\miniconda3\\envs\\Regression\\lib\\site-packages\\arviz\\stats\\stats.py:212: FutureWarning: The frame.append method is deprecated and will be removed from pandas in a future version. Use pandas.concat instead.\n",
            "  ics = ics.append([ic_func(dataset, pointwise=True, scale=scale)])\n",
            "c:\\miniconda3\\envs\\Regression\\lib\\site-packages\\arviz\\stats\\stats.py:655: UserWarning: Estimated shape parameter of Pareto distribution is greater than 0.7 for one or more samples. You should consider using a more robust model, this is because importance sampling is less likely to work well if the marginal posterior and LOO posterior are very different. This is more likely to happen with a non-robust model and highly influential observations.\n",
            "  warnings.warn(\n",
            "c:\\miniconda3\\envs\\Regression\\lib\\site-packages\\arviz\\stats\\stats.py:212: FutureWarning: The frame.append method is deprecated and will be removed from pandas in a future version. Use pandas.concat instead.\n",
            "  ics = ics.append([ic_func(dataset, pointwise=True, scale=scale)])\n",
            "c:\\miniconda3\\envs\\Regression\\lib\\site-packages\\arviz\\stats\\stats.py:229: RuntimeWarning: divide by zero encountered in log\n",
            "  score += np.log(np.dot(exp_ic_i[i], w_full))\n",
            "c:\\miniconda3\\envs\\Regression\\lib\\site-packages\\arviz\\stats\\stats.py:237: RuntimeWarning: invalid value encountered in double_scalars\n",
            "  grad[k] += (exp_ic_i[i, k] - exp_ic_i[i, km1]) / np.dot(exp_ic_i[i], w_full)\n",
            "c:\\miniconda3\\envs\\Regression\\lib\\site-packages\\arviz\\stats\\stats.py:145: UserWarning: The default method used to estimate the weights for each model,has changed from BB-pseudo-BMA to stacking\n",
            "  warnings.warn(\n",
            "c:\\miniconda3\\envs\\Regression\\lib\\site-packages\\arviz\\stats\\stats.py:655: UserWarning: Estimated shape parameter of Pareto distribution is greater than 0.7 for one or more samples. You should consider using a more robust model, this is because importance sampling is less likely to work well if the marginal posterior and LOO posterior are very different. This is more likely to happen with a non-robust model and highly influential observations.\n",
            "  warnings.warn(\n",
            "c:\\miniconda3\\envs\\Regression\\lib\\site-packages\\arviz\\stats\\stats.py:212: FutureWarning: The frame.append method is deprecated and will be removed from pandas in a future version. Use pandas.concat instead.\n",
            "  ics = ics.append([ic_func(dataset, pointwise=True, scale=scale)])\n"
          ]
        },
        {
          "name": "stdout",
          "output_type": "stream",
          "text": [
            "intercept model 6: landmarks group 2 intercept using eyes\n",
            "homogeneous model 6: landmarks group 2 homogeneous using eyes\n"
          ]
        },
        {
          "name": "stderr",
          "output_type": "stream",
          "text": [
            "c:\\miniconda3\\envs\\Regression\\lib\\site-packages\\arviz\\stats\\stats.py:655: UserWarning: Estimated shape parameter of Pareto distribution is greater than 0.7 for one or more samples. You should consider using a more robust model, this is because importance sampling is less likely to work well if the marginal posterior and LOO posterior are very different. This is more likely to happen with a non-robust model and highly influential observations.\n",
            "  warnings.warn(\n",
            "c:\\miniconda3\\envs\\Regression\\lib\\site-packages\\arviz\\stats\\stats.py:212: FutureWarning: The frame.append method is deprecated and will be removed from pandas in a future version. Use pandas.concat instead.\n",
            "  ics = ics.append([ic_func(dataset, pointwise=True, scale=scale)])\n",
            "c:\\miniconda3\\envs\\Regression\\lib\\site-packages\\arviz\\stats\\stats.py:229: RuntimeWarning: divide by zero encountered in log\n",
            "  score += np.log(np.dot(exp_ic_i[i], w_full))\n",
            "c:\\miniconda3\\envs\\Regression\\lib\\site-packages\\arviz\\stats\\stats.py:237: RuntimeWarning: invalid value encountered in double_scalars\n",
            "  grad[k] += (exp_ic_i[i, k] - exp_ic_i[i, km1]) / np.dot(exp_ic_i[i], w_full)\n",
            "c:\\miniconda3\\envs\\Regression\\lib\\site-packages\\arviz\\stats\\stats.py:145: UserWarning: The default method used to estimate the weights for each model,has changed from BB-pseudo-BMA to stacking\n",
            "  warnings.warn(\n",
            "c:\\miniconda3\\envs\\Regression\\lib\\site-packages\\arviz\\stats\\stats.py:876: RuntimeWarning: overflow encountered in exp\n",
            "  weights = 1 / np.exp(len_scale - len_scale[:, None]).sum(axis=1)\n",
            "c:\\miniconda3\\envs\\Regression\\lib\\site-packages\\arviz\\stats\\stats.py:655: UserWarning: Estimated shape parameter of Pareto distribution is greater than 0.7 for one or more samples. You should consider using a more robust model, this is because importance sampling is less likely to work well if the marginal posterior and LOO posterior are very different. This is more likely to happen with a non-robust model and highly influential observations.\n",
            "  warnings.warn(\n"
          ]
        },
        {
          "name": "stdout",
          "output_type": "stream",
          "text": [
            "intercept model 7: landmarks group 3 intercept using eyes\n",
            "homogeneous model 7: landmarks group 3 homogeneous using eyes\n"
          ]
        },
        {
          "name": "stderr",
          "output_type": "stream",
          "text": [
            "c:\\miniconda3\\envs\\Regression\\lib\\site-packages\\arviz\\stats\\stats.py:212: FutureWarning: The frame.append method is deprecated and will be removed from pandas in a future version. Use pandas.concat instead.\n",
            "  ics = ics.append([ic_func(dataset, pointwise=True, scale=scale)])\n",
            "c:\\miniconda3\\envs\\Regression\\lib\\site-packages\\arviz\\stats\\stats.py:655: UserWarning: Estimated shape parameter of Pareto distribution is greater than 0.7 for one or more samples. You should consider using a more robust model, this is because importance sampling is less likely to work well if the marginal posterior and LOO posterior are very different. This is more likely to happen with a non-robust model and highly influential observations.\n",
            "  warnings.warn(\n",
            "c:\\miniconda3\\envs\\Regression\\lib\\site-packages\\arviz\\stats\\stats.py:212: FutureWarning: The frame.append method is deprecated and will be removed from pandas in a future version. Use pandas.concat instead.\n",
            "  ics = ics.append([ic_func(dataset, pointwise=True, scale=scale)])\n",
            "c:\\miniconda3\\envs\\Regression\\lib\\site-packages\\arviz\\stats\\stats.py:229: RuntimeWarning: divide by zero encountered in log\n",
            "  score += np.log(np.dot(exp_ic_i[i], w_full))\n",
            "c:\\miniconda3\\envs\\Regression\\lib\\site-packages\\arviz\\stats\\stats.py:237: RuntimeWarning: invalid value encountered in double_scalars\n",
            "  grad[k] += (exp_ic_i[i, k] - exp_ic_i[i, km1]) / np.dot(exp_ic_i[i], w_full)\n"
          ]
        },
        {
          "name": "stdout",
          "output_type": "stream",
          "text": [
            "intercept model 8: no landmarks group 1 intercept using eyes\n",
            "homogeneous model 8: no landmarks group 1 homogeneous using eyes\n"
          ]
        },
        {
          "name": "stderr",
          "output_type": "stream",
          "text": [
            "c:\\miniconda3\\envs\\Regression\\lib\\site-packages\\arviz\\stats\\stats.py:145: UserWarning: The default method used to estimate the weights for each model,has changed from BB-pseudo-BMA to stacking\n",
            "  warnings.warn(\n",
            "c:\\miniconda3\\envs\\Regression\\lib\\site-packages\\arviz\\stats\\stats.py:655: UserWarning: Estimated shape parameter of Pareto distribution is greater than 0.7 for one or more samples. You should consider using a more robust model, this is because importance sampling is less likely to work well if the marginal posterior and LOO posterior are very different. This is more likely to happen with a non-robust model and highly influential observations.\n",
            "  warnings.warn(\n",
            "c:\\miniconda3\\envs\\Regression\\lib\\site-packages\\arviz\\stats\\stats.py:212: FutureWarning: The frame.append method is deprecated and will be removed from pandas in a future version. Use pandas.concat instead.\n",
            "  ics = ics.append([ic_func(dataset, pointwise=True, scale=scale)])\n",
            "c:\\miniconda3\\envs\\Regression\\lib\\site-packages\\arviz\\stats\\stats.py:655: UserWarning: Estimated shape parameter of Pareto distribution is greater than 0.7 for one or more samples. You should consider using a more robust model, this is because importance sampling is less likely to work well if the marginal posterior and LOO posterior are very different. This is more likely to happen with a non-robust model and highly influential observations.\n",
            "  warnings.warn(\n",
            "c:\\miniconda3\\envs\\Regression\\lib\\site-packages\\arviz\\stats\\stats.py:212: FutureWarning: The frame.append method is deprecated and will be removed from pandas in a future version. Use pandas.concat instead.\n",
            "  ics = ics.append([ic_func(dataset, pointwise=True, scale=scale)])\n",
            "c:\\miniconda3\\envs\\Regression\\lib\\site-packages\\arviz\\stats\\stats.py:229: RuntimeWarning: divide by zero encountered in log\n",
            "  score += np.log(np.dot(exp_ic_i[i], w_full))\n",
            "c:\\miniconda3\\envs\\Regression\\lib\\site-packages\\arviz\\stats\\stats.py:237: RuntimeWarning: invalid value encountered in double_scalars\n",
            "  grad[k] += (exp_ic_i[i, k] - exp_ic_i[i, km1]) / np.dot(exp_ic_i[i], w_full)\n"
          ]
        },
        {
          "name": "stdout",
          "output_type": "stream",
          "text": [
            "intercept model 9: no landmarks group 2 intercept using eyes\n",
            "homogeneous model 9: no landmarks group 2 homogeneous using eyes\n"
          ]
        },
        {
          "name": "stderr",
          "output_type": "stream",
          "text": [
            "c:\\miniconda3\\envs\\Regression\\lib\\site-packages\\arviz\\stats\\stats.py:145: UserWarning: The default method used to estimate the weights for each model,has changed from BB-pseudo-BMA to stacking\n",
            "  warnings.warn(\n",
            "c:\\miniconda3\\envs\\Regression\\lib\\site-packages\\arviz\\stats\\stats.py:655: UserWarning: Estimated shape parameter of Pareto distribution is greater than 0.7 for one or more samples. You should consider using a more robust model, this is because importance sampling is less likely to work well if the marginal posterior and LOO posterior are very different. This is more likely to happen with a non-robust model and highly influential observations.\n",
            "  warnings.warn(\n",
            "c:\\miniconda3\\envs\\Regression\\lib\\site-packages\\arviz\\stats\\stats.py:212: FutureWarning: The frame.append method is deprecated and will be removed from pandas in a future version. Use pandas.concat instead.\n",
            "  ics = ics.append([ic_func(dataset, pointwise=True, scale=scale)])\n",
            "c:\\miniconda3\\envs\\Regression\\lib\\site-packages\\arviz\\stats\\stats.py:655: UserWarning: Estimated shape parameter of Pareto distribution is greater than 0.7 for one or more samples. You should consider using a more robust model, this is because importance sampling is less likely to work well if the marginal posterior and LOO posterior are very different. This is more likely to happen with a non-robust model and highly influential observations.\n",
            "  warnings.warn(\n",
            "c:\\miniconda3\\envs\\Regression\\lib\\site-packages\\arviz\\stats\\stats.py:212: FutureWarning: The frame.append method is deprecated and will be removed from pandas in a future version. Use pandas.concat instead.\n",
            "  ics = ics.append([ic_func(dataset, pointwise=True, scale=scale)])\n",
            "c:\\miniconda3\\envs\\Regression\\lib\\site-packages\\arviz\\stats\\stats.py:229: RuntimeWarning: divide by zero encountered in log\n",
            "  score += np.log(np.dot(exp_ic_i[i], w_full))\n",
            "c:\\miniconda3\\envs\\Regression\\lib\\site-packages\\arviz\\stats\\stats.py:237: RuntimeWarning: invalid value encountered in double_scalars\n",
            "  grad[k] += (exp_ic_i[i, k] - exp_ic_i[i, km1]) / np.dot(exp_ic_i[i], w_full)\n"
          ]
        }
      ],
      "source": [
        "comparison_table = pd.DataFrame()\n",
        "\n",
        "for mi in range(num_models):\n",
        "  compare_idata = dict()\n",
        "  for j,b0_string in enumerate(b0_strings):\n",
        "    m = model_list[b0_string][mi]\n",
        "    this_name = m[\"name\"]\n",
        "    print(f'{b0_string} model {mi}: {this_name}')\n",
        "    \n",
        "    ll = ll_list[b0_string][mi]\n",
        "    compare_idata[this_name] = all_idata[b0_string][mi]\n",
        "  this_compare = az.compare(compare_idata, ic=\"loo\", method=\"stacking\")\n",
        "  comparison_table = pd.concat([comparison_table, this_compare])\n",
        "comparison_table.to_csv('loo comparison.csv')\n",
        "  "
      ]
    },
    {
      "cell_type": "code",
      "execution_count": 21,
      "metadata": {},
      "outputs": [
        {
          "data": {
            "text/html": [
              "<div>\n",
              "<style scoped>\n",
              "    .dataframe tbody tr th:only-of-type {\n",
              "        vertical-align: middle;\n",
              "    }\n",
              "\n",
              "    .dataframe tbody tr th {\n",
              "        vertical-align: top;\n",
              "    }\n",
              "\n",
              "    .dataframe thead th {\n",
              "        text-align: right;\n",
              "    }\n",
              "</style>\n",
              "<table border=\"1\" class=\"dataframe\">\n",
              "  <thead>\n",
              "    <tr style=\"text-align: right;\">\n",
              "      <th></th>\n",
              "      <th>rank</th>\n",
              "      <th>loo</th>\n",
              "      <th>p_loo</th>\n",
              "      <th>d_loo</th>\n",
              "      <th>weight</th>\n",
              "      <th>se</th>\n",
              "      <th>dse</th>\n",
              "      <th>warning</th>\n",
              "      <th>loo_scale</th>\n",
              "    </tr>\n",
              "  </thead>\n",
              "  <tbody>\n",
              "    <tr>\n",
              "      <th>landmarks group 1 homogeneous using eyeHandDiff</th>\n",
              "      <td>0</td>\n",
              "      <td>-3255.794840</td>\n",
              "      <td>110.187460</td>\n",
              "      <td>0.000000</td>\n",
              "      <td>0.602771</td>\n",
              "      <td>103.254059</td>\n",
              "      <td>0.000000</td>\n",
              "      <td>True</td>\n",
              "      <td>log</td>\n",
              "    </tr>\n",
              "    <tr>\n",
              "      <th>landmarks group 1 intercept using eyeHandDiff</th>\n",
              "      <td>1</td>\n",
              "      <td>-3256.945596</td>\n",
              "      <td>111.705986</td>\n",
              "      <td>1.150756</td>\n",
              "      <td>0.397229</td>\n",
              "      <td>102.475240</td>\n",
              "      <td>4.309576</td>\n",
              "      <td>True</td>\n",
              "      <td>log</td>\n",
              "    </tr>\n",
              "    <tr>\n",
              "      <th>landmarks group 2 intercept using eyeHandDiff</th>\n",
              "      <td>0</td>\n",
              "      <td>-2981.402111</td>\n",
              "      <td>87.728443</td>\n",
              "      <td>0.000000</td>\n",
              "      <td>0.464183</td>\n",
              "      <td>86.800268</td>\n",
              "      <td>0.000000</td>\n",
              "      <td>True</td>\n",
              "      <td>log</td>\n",
              "    </tr>\n",
              "    <tr>\n",
              "      <th>landmarks group 2 homogeneous using eyeHandDiff</th>\n",
              "      <td>1</td>\n",
              "      <td>-2981.416035</td>\n",
              "      <td>86.337000</td>\n",
              "      <td>0.013924</td>\n",
              "      <td>0.535817</td>\n",
              "      <td>87.445591</td>\n",
              "      <td>3.776071</td>\n",
              "      <td>True</td>\n",
              "      <td>log</td>\n",
              "    </tr>\n",
              "    <tr>\n",
              "      <th>landmarks group 3 homogeneous using eyeHandDiff</th>\n",
              "      <td>0</td>\n",
              "      <td>-3273.594683</td>\n",
              "      <td>93.015475</td>\n",
              "      <td>0.000000</td>\n",
              "      <td>0.616199</td>\n",
              "      <td>103.624187</td>\n",
              "      <td>0.000000</td>\n",
              "      <td>True</td>\n",
              "      <td>log</td>\n",
              "    </tr>\n",
              "    <tr>\n",
              "      <th>landmarks group 3 intercept using eyeHandDiff</th>\n",
              "      <td>1</td>\n",
              "      <td>-3275.226494</td>\n",
              "      <td>95.805571</td>\n",
              "      <td>1.631811</td>\n",
              "      <td>0.383801</td>\n",
              "      <td>103.762485</td>\n",
              "      <td>4.256707</td>\n",
              "      <td>True</td>\n",
              "      <td>log</td>\n",
              "    </tr>\n",
              "    <tr>\n",
              "      <th>no landmarks group 1 intercept using eyeHandDiff</th>\n",
              "      <td>0</td>\n",
              "      <td>-1429.967996</td>\n",
              "      <td>34.129730</td>\n",
              "      <td>0.000000</td>\n",
              "      <td>1.000000</td>\n",
              "      <td>47.849305</td>\n",
              "      <td>0.000000</td>\n",
              "      <td>True</td>\n",
              "      <td>log</td>\n",
              "    </tr>\n",
              "    <tr>\n",
              "      <th>no landmarks group 1 homogeneous using eyeHandDiff</th>\n",
              "      <td>1</td>\n",
              "      <td>-1431.810142</td>\n",
              "      <td>34.684208</td>\n",
              "      <td>1.842146</td>\n",
              "      <td>0.000000</td>\n",
              "      <td>49.116361</td>\n",
              "      <td>1.930827</td>\n",
              "      <td>True</td>\n",
              "      <td>log</td>\n",
              "    </tr>\n",
              "    <tr>\n",
              "      <th>no landmarks group 2 intercept using eyeHandDiff</th>\n",
              "      <td>0</td>\n",
              "      <td>NaN</td>\n",
              "      <td>NaN</td>\n",
              "      <td>NaN</td>\n",
              "      <td>0.500000</td>\n",
              "      <td>NaN</td>\n",
              "      <td>NaN</td>\n",
              "      <td>True</td>\n",
              "      <td>log</td>\n",
              "    </tr>\n",
              "    <tr>\n",
              "      <th>no landmarks group 2 homogeneous using eyeHandDiff</th>\n",
              "      <td>1</td>\n",
              "      <td>NaN</td>\n",
              "      <td>NaN</td>\n",
              "      <td>NaN</td>\n",
              "      <td>0.500000</td>\n",
              "      <td>NaN</td>\n",
              "      <td>NaN</td>\n",
              "      <td>True</td>\n",
              "      <td>log</td>\n",
              "    </tr>\n",
              "    <tr>\n",
              "      <th>landmarks group 1 homogeneous using eyes</th>\n",
              "      <td>0</td>\n",
              "      <td>-8718.930705</td>\n",
              "      <td>5144.621986</td>\n",
              "      <td>0.000000</td>\n",
              "      <td>0.500000</td>\n",
              "      <td>1959.689925</td>\n",
              "      <td>0.000000</td>\n",
              "      <td>True</td>\n",
              "      <td>log</td>\n",
              "    </tr>\n",
              "    <tr>\n",
              "      <th>landmarks group 1 intercept using eyes</th>\n",
              "      <td>1</td>\n",
              "      <td>-8722.197479</td>\n",
              "      <td>5086.878496</td>\n",
              "      <td>3.266773</td>\n",
              "      <td>0.500000</td>\n",
              "      <td>1981.610796</td>\n",
              "      <td>47.465902</td>\n",
              "      <td>True</td>\n",
              "      <td>log</td>\n",
              "    </tr>\n",
              "    <tr>\n",
              "      <th>landmarks group 2 intercept using eyes</th>\n",
              "      <td>0</td>\n",
              "      <td>-8735.124063</td>\n",
              "      <td>5315.764615</td>\n",
              "      <td>0.000000</td>\n",
              "      <td>0.500000</td>\n",
              "      <td>1661.671138</td>\n",
              "      <td>0.000000</td>\n",
              "      <td>True</td>\n",
              "      <td>log</td>\n",
              "    </tr>\n",
              "    <tr>\n",
              "      <th>landmarks group 2 homogeneous using eyes</th>\n",
              "      <td>1</td>\n",
              "      <td>-8743.438122</td>\n",
              "      <td>5284.400259</td>\n",
              "      <td>8.314059</td>\n",
              "      <td>0.500000</td>\n",
              "      <td>1664.953310</td>\n",
              "      <td>51.222847</td>\n",
              "      <td>True</td>\n",
              "      <td>log</td>\n",
              "    </tr>\n",
              "    <tr>\n",
              "      <th>landmarks group 3 intercept using eyes</th>\n",
              "      <td>0</td>\n",
              "      <td>-14754.039090</td>\n",
              "      <td>10584.675108</td>\n",
              "      <td>0.000000</td>\n",
              "      <td>0.500000</td>\n",
              "      <td>3358.586996</td>\n",
              "      <td>0.000000</td>\n",
              "      <td>True</td>\n",
              "      <td>log</td>\n",
              "    </tr>\n",
              "    <tr>\n",
              "      <th>landmarks group 3 homogeneous using eyes</th>\n",
              "      <td>1</td>\n",
              "      <td>-14980.149882</td>\n",
              "      <td>10852.376554</td>\n",
              "      <td>226.110792</td>\n",
              "      <td>0.500000</td>\n",
              "      <td>3417.775592</td>\n",
              "      <td>130.461384</td>\n",
              "      <td>True</td>\n",
              "      <td>log</td>\n",
              "    </tr>\n",
              "    <tr>\n",
              "      <th>no landmarks group 1 homogeneous using eyes</th>\n",
              "      <td>0</td>\n",
              "      <td>-7385.094890</td>\n",
              "      <td>5511.166848</td>\n",
              "      <td>0.000000</td>\n",
              "      <td>0.500000</td>\n",
              "      <td>1830.486662</td>\n",
              "      <td>0.000000</td>\n",
              "      <td>True</td>\n",
              "      <td>log</td>\n",
              "    </tr>\n",
              "    <tr>\n",
              "      <th>no landmarks group 1 intercept using eyes</th>\n",
              "      <td>1</td>\n",
              "      <td>-7574.046619</td>\n",
              "      <td>5643.662631</td>\n",
              "      <td>188.951729</td>\n",
              "      <td>0.500000</td>\n",
              "      <td>1936.898130</td>\n",
              "      <td>124.751886</td>\n",
              "      <td>True</td>\n",
              "      <td>log</td>\n",
              "    </tr>\n",
              "    <tr>\n",
              "      <th>no landmarks group 2 homogeneous using eyes</th>\n",
              "      <td>0</td>\n",
              "      <td>-7215.759609</td>\n",
              "      <td>5279.183527</td>\n",
              "      <td>0.000000</td>\n",
              "      <td>0.500000</td>\n",
              "      <td>2511.130040</td>\n",
              "      <td>0.000000</td>\n",
              "      <td>True</td>\n",
              "      <td>log</td>\n",
              "    </tr>\n",
              "    <tr>\n",
              "      <th>no landmarks group 2 intercept using eyes</th>\n",
              "      <td>1</td>\n",
              "      <td>-7263.856328</td>\n",
              "      <td>5409.801607</td>\n",
              "      <td>48.096720</td>\n",
              "      <td>0.500000</td>\n",
              "      <td>2555.398638</td>\n",
              "      <td>60.472723</td>\n",
              "      <td>True</td>\n",
              "      <td>log</td>\n",
              "    </tr>\n",
              "  </tbody>\n",
              "</table>\n",
              "</div>"
            ],
            "text/plain": [
              "                                                    rank           loo  \\\n",
              "landmarks group 1 homogeneous using eyeHandDiff        0  -3255.794840   \n",
              "landmarks group 1 intercept using eyeHandDiff          1  -3256.945596   \n",
              "landmarks group 2 intercept using eyeHandDiff          0  -2981.402111   \n",
              "landmarks group 2 homogeneous using eyeHandDiff        1  -2981.416035   \n",
              "landmarks group 3 homogeneous using eyeHandDiff        0  -3273.594683   \n",
              "landmarks group 3 intercept using eyeHandDiff          1  -3275.226494   \n",
              "no landmarks group 1 intercept using eyeHandDiff       0  -1429.967996   \n",
              "no landmarks group 1 homogeneous using eyeHandDiff     1  -1431.810142   \n",
              "no landmarks group 2 intercept using eyeHandDiff       0           NaN   \n",
              "no landmarks group 2 homogeneous using eyeHandDiff     1           NaN   \n",
              "landmarks group 1 homogeneous using eyes               0  -8718.930705   \n",
              "landmarks group 1 intercept using eyes                 1  -8722.197479   \n",
              "landmarks group 2 intercept using eyes                 0  -8735.124063   \n",
              "landmarks group 2 homogeneous using eyes               1  -8743.438122   \n",
              "landmarks group 3 intercept using eyes                 0 -14754.039090   \n",
              "landmarks group 3 homogeneous using eyes               1 -14980.149882   \n",
              "no landmarks group 1 homogeneous using eyes            0  -7385.094890   \n",
              "no landmarks group 1 intercept using eyes              1  -7574.046619   \n",
              "no landmarks group 2 homogeneous using eyes            0  -7215.759609   \n",
              "no landmarks group 2 intercept using eyes              1  -7263.856328   \n",
              "\n",
              "                                                           p_loo       d_loo  \\\n",
              "landmarks group 1 homogeneous using eyeHandDiff       110.187460    0.000000   \n",
              "landmarks group 1 intercept using eyeHandDiff         111.705986    1.150756   \n",
              "landmarks group 2 intercept using eyeHandDiff          87.728443    0.000000   \n",
              "landmarks group 2 homogeneous using eyeHandDiff        86.337000    0.013924   \n",
              "landmarks group 3 homogeneous using eyeHandDiff        93.015475    0.000000   \n",
              "landmarks group 3 intercept using eyeHandDiff          95.805571    1.631811   \n",
              "no landmarks group 1 intercept using eyeHandDiff       34.129730    0.000000   \n",
              "no landmarks group 1 homogeneous using eyeHandDiff     34.684208    1.842146   \n",
              "no landmarks group 2 intercept using eyeHandDiff             NaN         NaN   \n",
              "no landmarks group 2 homogeneous using eyeHandDiff           NaN         NaN   \n",
              "landmarks group 1 homogeneous using eyes             5144.621986    0.000000   \n",
              "landmarks group 1 intercept using eyes               5086.878496    3.266773   \n",
              "landmarks group 2 intercept using eyes               5315.764615    0.000000   \n",
              "landmarks group 2 homogeneous using eyes             5284.400259    8.314059   \n",
              "landmarks group 3 intercept using eyes              10584.675108    0.000000   \n",
              "landmarks group 3 homogeneous using eyes            10852.376554  226.110792   \n",
              "no landmarks group 1 homogeneous using eyes          5511.166848    0.000000   \n",
              "no landmarks group 1 intercept using eyes            5643.662631  188.951729   \n",
              "no landmarks group 2 homogeneous using eyes          5279.183527    0.000000   \n",
              "no landmarks group 2 intercept using eyes            5409.801607   48.096720   \n",
              "\n",
              "                                                      weight           se  \\\n",
              "landmarks group 1 homogeneous using eyeHandDiff     0.602771   103.254059   \n",
              "landmarks group 1 intercept using eyeHandDiff       0.397229   102.475240   \n",
              "landmarks group 2 intercept using eyeHandDiff       0.464183    86.800268   \n",
              "landmarks group 2 homogeneous using eyeHandDiff     0.535817    87.445591   \n",
              "landmarks group 3 homogeneous using eyeHandDiff     0.616199   103.624187   \n",
              "landmarks group 3 intercept using eyeHandDiff       0.383801   103.762485   \n",
              "no landmarks group 1 intercept using eyeHandDiff    1.000000    47.849305   \n",
              "no landmarks group 1 homogeneous using eyeHandDiff  0.000000    49.116361   \n",
              "no landmarks group 2 intercept using eyeHandDiff    0.500000          NaN   \n",
              "no landmarks group 2 homogeneous using eyeHandDiff  0.500000          NaN   \n",
              "landmarks group 1 homogeneous using eyes            0.500000  1959.689925   \n",
              "landmarks group 1 intercept using eyes              0.500000  1981.610796   \n",
              "landmarks group 2 intercept using eyes              0.500000  1661.671138   \n",
              "landmarks group 2 homogeneous using eyes            0.500000  1664.953310   \n",
              "landmarks group 3 intercept using eyes              0.500000  3358.586996   \n",
              "landmarks group 3 homogeneous using eyes            0.500000  3417.775592   \n",
              "no landmarks group 1 homogeneous using eyes         0.500000  1830.486662   \n",
              "no landmarks group 1 intercept using eyes           0.500000  1936.898130   \n",
              "no landmarks group 2 homogeneous using eyes         0.500000  2511.130040   \n",
              "no landmarks group 2 intercept using eyes           0.500000  2555.398638   \n",
              "\n",
              "                                                           dse  warning  \\\n",
              "landmarks group 1 homogeneous using eyeHandDiff       0.000000     True   \n",
              "landmarks group 1 intercept using eyeHandDiff         4.309576     True   \n",
              "landmarks group 2 intercept using eyeHandDiff         0.000000     True   \n",
              "landmarks group 2 homogeneous using eyeHandDiff       3.776071     True   \n",
              "landmarks group 3 homogeneous using eyeHandDiff       0.000000     True   \n",
              "landmarks group 3 intercept using eyeHandDiff         4.256707     True   \n",
              "no landmarks group 1 intercept using eyeHandDiff      0.000000     True   \n",
              "no landmarks group 1 homogeneous using eyeHandDiff    1.930827     True   \n",
              "no landmarks group 2 intercept using eyeHandDiff           NaN     True   \n",
              "no landmarks group 2 homogeneous using eyeHandDiff         NaN     True   \n",
              "landmarks group 1 homogeneous using eyes              0.000000     True   \n",
              "landmarks group 1 intercept using eyes               47.465902     True   \n",
              "landmarks group 2 intercept using eyes                0.000000     True   \n",
              "landmarks group 2 homogeneous using eyes             51.222847     True   \n",
              "landmarks group 3 intercept using eyes                0.000000     True   \n",
              "landmarks group 3 homogeneous using eyes            130.461384     True   \n",
              "no landmarks group 1 homogeneous using eyes           0.000000     True   \n",
              "no landmarks group 1 intercept using eyes           124.751886     True   \n",
              "no landmarks group 2 homogeneous using eyes           0.000000     True   \n",
              "no landmarks group 2 intercept using eyes            60.472723     True   \n",
              "\n",
              "                                                   loo_scale  \n",
              "landmarks group 1 homogeneous using eyeHandDiff          log  \n",
              "landmarks group 1 intercept using eyeHandDiff            log  \n",
              "landmarks group 2 intercept using eyeHandDiff            log  \n",
              "landmarks group 2 homogeneous using eyeHandDiff          log  \n",
              "landmarks group 3 homogeneous using eyeHandDiff          log  \n",
              "landmarks group 3 intercept using eyeHandDiff            log  \n",
              "no landmarks group 1 intercept using eyeHandDiff         log  \n",
              "no landmarks group 1 homogeneous using eyeHandDiff       log  \n",
              "no landmarks group 2 intercept using eyeHandDiff         log  \n",
              "no landmarks group 2 homogeneous using eyeHandDiff       log  \n",
              "landmarks group 1 homogeneous using eyes                 log  \n",
              "landmarks group 1 intercept using eyes                   log  \n",
              "landmarks group 2 intercept using eyes                   log  \n",
              "landmarks group 2 homogeneous using eyes                 log  \n",
              "landmarks group 3 intercept using eyes                   log  \n",
              "landmarks group 3 homogeneous using eyes                 log  \n",
              "no landmarks group 1 homogeneous using eyes              log  \n",
              "no landmarks group 1 intercept using eyes                log  \n",
              "no landmarks group 2 homogeneous using eyes              log  \n",
              "no landmarks group 2 intercept using eyes                log  "
            ]
          },
          "execution_count": 21,
          "metadata": {},
          "output_type": "execute_result"
        }
      ],
      "source": [
        "comparison_table"
      ]
    }
  ],
  "metadata": {
    "colab": {
      "authorship_tag": "ABX9TyME/09G19XQ4kRNwEPRmmsf",
      "include_colab_link": true,
      "name": "Regression analysis.ipynb",
      "provenance": []
    },
    "interpreter": {
      "hash": "2933728268676bbd9ad49a58db33ca8e0f370feda59ea191785b1b53f5ad340c"
    },
    "kernelspec": {
      "display_name": "Python 3.9.12 ('Regression')",
      "language": "python",
      "name": "python3"
    },
    "language_info": {
      "codemirror_mode": {
        "name": "ipython",
        "version": 3
      },
      "file_extension": ".py",
      "mimetype": "text/x-python",
      "name": "python",
      "nbconvert_exporter": "python",
      "pygments_lexer": "ipython3",
      "version": "3.9.12"
    }
  },
  "nbformat": 4,
  "nbformat_minor": 0
}
