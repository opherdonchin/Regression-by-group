{
 "cells": [
  {
   "cell_type": "code",
   "execution_count": 21,
   "metadata": {},
   "outputs": [],
   "source": [
    "# Imports\n",
    "# Python\n",
    "import xarray as xr\n",
    "\n",
    "# Maths\n",
    "import numpy as np\n",
    "import pandas as pd\n",
    "import scipy.stats as stats\n",
    "\n",
    "# Bayes\n",
    "import pymc as pm\n",
    "import arviz as az\n",
    "\n",
    "from numpy.random import default_rng\n",
    "rng = default_rng()"
   ]
  },
  {
   "cell_type": "code",
   "execution_count": 14,
   "metadata": {},
   "outputs": [
    {
     "data": {
      "text/html": [
       "<div>\n",
       "<style scoped>\n",
       "    .dataframe tbody tr th:only-of-type {\n",
       "        vertical-align: middle;\n",
       "    }\n",
       "\n",
       "    .dataframe tbody tr th {\n",
       "        vertical-align: top;\n",
       "    }\n",
       "\n",
       "    .dataframe thead th {\n",
       "        text-align: right;\n",
       "    }\n",
       "</style>\n",
       "<table border=\"1\" class=\"dataframe\">\n",
       "  <thead>\n",
       "    <tr style=\"text-align: right;\">\n",
       "      <th></th>\n",
       "      <th>s</th>\n",
       "      <th>x</th>\n",
       "    </tr>\n",
       "  </thead>\n",
       "  <tbody>\n",
       "    <tr>\n",
       "      <th>0</th>\n",
       "      <td>0</td>\n",
       "      <td>1.367170</td>\n",
       "    </tr>\n",
       "    <tr>\n",
       "      <th>1</th>\n",
       "      <td>0</td>\n",
       "      <td>1.054977</td>\n",
       "    </tr>\n",
       "    <tr>\n",
       "      <th>2</th>\n",
       "      <td>0</td>\n",
       "      <td>1.275224</td>\n",
       "    </tr>\n",
       "    <tr>\n",
       "      <th>3</th>\n",
       "      <td>0</td>\n",
       "      <td>1.294788</td>\n",
       "    </tr>\n",
       "    <tr>\n",
       "      <th>4</th>\n",
       "      <td>0</td>\n",
       "      <td>1.598036</td>\n",
       "    </tr>\n",
       "  </tbody>\n",
       "</table>\n",
       "</div>"
      ],
      "text/plain": [
       "   s         x\n",
       "0  0  1.367170\n",
       "1  0  1.054977\n",
       "2  0  1.275224\n",
       "3  0  1.294788\n",
       "4  0  1.598036"
      ]
     },
     "execution_count": 14,
     "metadata": {},
     "output_type": "execute_result"
    }
   ],
   "source": [
    "num_subjects = 20\n",
    "beta = 1\n",
    "sigma = 0.1\n",
    "obs_sigma_sigma = 0.1 \n",
    "xs = stats.norm.rvs(loc=0, scale=1, size=num_subjects)\n",
    "ns = stats.randint.rvs(low=4, high=8, size=num_subjects)\n",
    "x_sigma = obs_sigma_sigma*stats.truncnorm.rvs(a=0, b=np.infty, size=num_subjects)\n",
    "data = pd.DataFrame()\n",
    "for this_s, (this_xs, this_n, this_x_sigma) in enumerate(zip(xs,ns,x_sigma)):\n",
    "    x = stats.norm.rvs(loc=this_xs, scale=this_x_sigma, size=this_n)\n",
    "    data = pd.concat([data, pd.DataFrame({\"s\": [this_s for xi in x], \"x\": x})])\n",
    "\n",
    "data.head()"
   ]
  },
  {
   "cell_type": "code",
   "execution_count": 15,
   "metadata": {},
   "outputs": [],
   "source": [
    "def simple_model(x,s,use_mu0):\n",
    "  s_idx, s_vals = pd.factorize(s, sort=True)\n",
    "  coords = {\"subject\": s_vals, \"points\":np.arange(len(x))}\n",
    "  with pm.Model(coords=coords) as model:\n",
    "    # Data\n",
    "    s_idx = pm.Data(\"s_idx\", s_idx, dims=\"points\", mutable=False)\n",
    "    # Priors\n",
    "    if use_mu0:\n",
    "      mu0 = pm.Normal('mu0', mu=0, sigma=1)\n",
    "    else:\n",
    "      mu0 = pm.Data('mu0', 0.0, mutable=False)\n",
    "    xs_sigma = pm.HalfNormal(\"xs_sigma\", sigma=1.0)\n",
    "    x_sigma = pm.HalfNormal(\"x_sigma\", sigma=0.5, dims=\"subject\")\n",
    "    # Latent variables\n",
    "    xs = pm.Normal('xs', mu=mu0, sigma=xs_sigma, dims=\"subject\")\n",
    "    # Likelihood \n",
    "    obs_x = pm.Normal('obs_x', mu=xs[s_idx], sigma=x_sigma[s_idx], observed=x, dims=\"points\")\n",
    "  return model"
   ]
  },
  {
   "cell_type": "code",
   "execution_count": 16,
   "metadata": {},
   "outputs": [
    {
     "name": "stderr",
     "output_type": "stream",
     "text": [
      "Auto-assigning NUTS sampler...\n",
      "Initializing NUTS using jitter+adapt_diag...\n",
      "Multiprocess sampling (3 chains in 3 jobs)\n",
      "NUTS: [xs_sigma, x_sigma, xs]\n"
     ]
    },
    {
     "data": {
      "text/html": [
       "\n",
       "    <div>\n",
       "        <style>\n",
       "            /* Turns off some styling */\n",
       "            progress {\n",
       "                /* gets rid of default border in Firefox and Opera. */\n",
       "                border: none;\n",
       "                /* Needs to be in here for Safari polyfill so background images work as expected. */\n",
       "                background-size: auto;\n",
       "            }\n",
       "            .progress-bar-interrupted, .progress-bar-interrupted::-webkit-progress-bar {\n",
       "                background: #F44336;\n",
       "            }\n",
       "        </style>\n",
       "      <progress value='15000' class='' max='15000' style='width:300px; height:20px; vertical-align: middle;'></progress>\n",
       "      100.00% [15000/15000 06:08<00:00 Sampling 3 chains, 0 divergences]\n",
       "    </div>\n",
       "    "
      ],
      "text/plain": [
       "<IPython.core.display.HTML object>"
      ]
     },
     "metadata": {},
     "output_type": "display_data"
    },
    {
     "name": "stderr",
     "output_type": "stream",
     "text": [
      "Sampling 3 chains for 3_000 tune and 2_000 draw iterations (9_000 + 6_000 draws total) took 449 seconds.\n",
      "Auto-assigning NUTS sampler...\n",
      "Initializing NUTS using jitter+adapt_diag...\n",
      "Multiprocess sampling (3 chains in 3 jobs)\n",
      "NUTS: [mu0, xs_sigma, x_sigma, xs]\n"
     ]
    },
    {
     "data": {
      "text/html": [
       "\n",
       "    <div>\n",
       "        <style>\n",
       "            /* Turns off some styling */\n",
       "            progress {\n",
       "                /* gets rid of default border in Firefox and Opera. */\n",
       "                border: none;\n",
       "                /* Needs to be in here for Safari polyfill so background images work as expected. */\n",
       "                background-size: auto;\n",
       "            }\n",
       "            .progress-bar-interrupted, .progress-bar-interrupted::-webkit-progress-bar {\n",
       "                background: #F44336;\n",
       "            }\n",
       "        </style>\n",
       "      <progress value='15000' class='' max='15000' style='width:300px; height:20px; vertical-align: middle;'></progress>\n",
       "      100.00% [15000/15000 06:13<00:00 Sampling 3 chains, 0 divergences]\n",
       "    </div>\n",
       "    "
      ],
      "text/plain": [
       "<IPython.core.display.HTML object>"
      ]
     },
     "metadata": {},
     "output_type": "display_data"
    },
    {
     "name": "stderr",
     "output_type": "stream",
     "text": [
      "Sampling 3 chains for 3_000 tune and 2_000 draw iterations (9_000 + 6_000 draws total) took 429 seconds.\n"
     ]
    }
   ],
   "source": [
    "idata = dict()\n",
    "mdl = dict()\n",
    "for use_m0 in [False, True]:\n",
    "    mdl[use_m0] = simple_model(data.x, data.s, use_m0)\n",
    "    with mdl[use_m0]:\n",
    "        idata[use_m0] = pm.sample(2000, tune=3000, cores=3, target_accept=0.95, return_inferencedata=True)\n"
   ]
  },
  {
   "cell_type": "code",
   "execution_count": 17,
   "metadata": {},
   "outputs": [
    {
     "name": "stderr",
     "output_type": "stream",
     "text": [
      "c:\\miniconda3\\envs\\Regression\\lib\\site-packages\\arviz\\stats\\stats.py:812: UserWarning: Estimated shape parameter of Pareto distribution is greater than 0.7 for one or more samples. You should consider using a more robust model, this is because importance sampling is less likely to work well if the marginal posterior and LOO posterior are very different. This is more likely to happen with a non-robust model and highly influential observations.\n",
      "  warnings.warn(\n",
      "c:\\miniconda3\\envs\\Regression\\lib\\site-packages\\arviz\\stats\\stats.py:812: UserWarning: Estimated shape parameter of Pareto distribution is greater than 0.7 for one or more samples. You should consider using a more robust model, this is because importance sampling is less likely to work well if the marginal posterior and LOO posterior are very different. This is more likely to happen with a non-robust model and highly influential observations.\n",
      "  warnings.warn(\n"
     ]
    },
    {
     "data": {
      "text/html": [
       "<div>\n",
       "<style scoped>\n",
       "    .dataframe tbody tr th:only-of-type {\n",
       "        vertical-align: middle;\n",
       "    }\n",
       "\n",
       "    .dataframe tbody tr th {\n",
       "        vertical-align: top;\n",
       "    }\n",
       "\n",
       "    .dataframe thead th {\n",
       "        text-align: right;\n",
       "    }\n",
       "</style>\n",
       "<table border=\"1\" class=\"dataframe\">\n",
       "  <thead>\n",
       "    <tr style=\"text-align: right;\">\n",
       "      <th></th>\n",
       "      <th>rank</th>\n",
       "      <th>loo</th>\n",
       "      <th>p_loo</th>\n",
       "      <th>d_loo</th>\n",
       "      <th>weight</th>\n",
       "      <th>se</th>\n",
       "      <th>dse</th>\n",
       "      <th>warning</th>\n",
       "      <th>loo_scale</th>\n",
       "    </tr>\n",
       "  </thead>\n",
       "  <tbody>\n",
       "    <tr>\n",
       "      <th>True</th>\n",
       "      <td>0</td>\n",
       "      <td>121.784800</td>\n",
       "      <td>31.421257</td>\n",
       "      <td>0.000000</td>\n",
       "      <td>1.0</td>\n",
       "      <td>9.971230</td>\n",
       "      <td>0.000000</td>\n",
       "      <td>True</td>\n",
       "      <td>log</td>\n",
       "    </tr>\n",
       "    <tr>\n",
       "      <th>False</th>\n",
       "      <td>1</td>\n",
       "      <td>121.176977</td>\n",
       "      <td>31.798863</td>\n",
       "      <td>0.607823</td>\n",
       "      <td>0.0</td>\n",
       "      <td>9.855146</td>\n",
       "      <td>0.496719</td>\n",
       "      <td>True</td>\n",
       "      <td>log</td>\n",
       "    </tr>\n",
       "  </tbody>\n",
       "</table>\n",
       "</div>"
      ],
      "text/plain": [
       "       rank         loo      p_loo     d_loo  weight        se       dse  \\\n",
       "True      0  121.784800  31.421257  0.000000     1.0  9.971230  0.000000   \n",
       "False     1  121.176977  31.798863  0.607823     0.0  9.855146  0.496719   \n",
       "\n",
       "       warning loo_scale  \n",
       "True      True       log  \n",
       "False     True       log  "
      ]
     },
     "execution_count": 17,
     "metadata": {},
     "output_type": "execute_result"
    }
   ],
   "source": [
    "az.compare(idata)"
   ]
  },
  {
   "cell_type": "code",
   "execution_count": 70,
   "metadata": {},
   "outputs": [],
   "source": [
    "def calc_ll(idata, mu0):\n",
    "    x = idata.observed_data[\"obs_x\"]\n",
    "    s_idx = idata.constant_data[\"s_idx\"]\n",
    "    xs = idata.posterior[\"xs\"]\n",
    "    x_sigma = idata.posterior[\"x_sigma\"]\n",
    "    xs_sigma = idata.posterior[\"xs_sigma\"]\n",
    "\n",
    "    mu0 = mu0.broadcast_like(xs)\n",
    "    xs_sigma = xs_sigma.broadcast_like(xs)\n",
    "    ll_xs = stats.norm(mu0, xs_sigma).logpdf(xs)\n",
    "\n",
    "    ll_x = np.zeros_like(ll_xs)\n",
    "\n",
    "    x_subj = x.groupby(s_idx)\n",
    "    coords = idata.posterior.coords\n",
    "    for c in coords[\"chain\"]:\n",
    "        print(f'Chain: {c.item()}')\n",
    "        for d in coords[\"draw\"]:\n",
    "            for s in range(len(x_subj)):\n",
    "                ll_x[c,d,s] = stats.norm(xs[c, d, s], x_sigma[c, d, s]).logpdf(x_subj[s]).sum()\n",
    "    \n",
    "    ll = ll_xs + ll_x\n",
    "    return xr.DataArray(ll, coords=xs.coords, dims=xs.dims)"
   ]
  },
  {
   "cell_type": "code",
   "execution_count": 71,
   "metadata": {},
   "outputs": [
    {
     "name": "stdout",
     "output_type": "stream",
     "text": [
      "Chain: 0\n",
      "Chain: 1\n",
      "Chain: 2\n",
      "Chain: 0\n",
      "Chain: 1\n",
      "Chain: 2\n"
     ]
    }
   ],
   "source": [
    "mu0 = {\n",
    "    True: idata[True].posterior.mu0,\n",
    "    False: xr.full_like(idata[True].posterior.mu0, idata[False].constant_data.mu0.item())\n",
    "}\n",
    "\n",
    "ll_list = dict()\n",
    "for use_mu0 in [False, True]:\n",
    "    ll = calc_ll(idata[use_mu0], mu0[use_mu0])\n",
    "    idata[use_mu0].log_likelihood[\"xs\"] = ll"
   ]
  },
  {
   "cell_type": "code",
   "execution_count": 80,
   "metadata": {},
   "outputs": [
    {
     "name": "stderr",
     "output_type": "stream",
     "text": [
      "c:\\miniconda3\\envs\\Regression\\lib\\site-packages\\arviz\\stats\\stats.py:812: UserWarning: Estimated shape parameter of Pareto distribution is greater than 0.7 for one or more samples. You should consider using a more robust model, this is because importance sampling is less likely to work well if the marginal posterior and LOO posterior are very different. This is more likely to happen with a non-robust model and highly influential observations.\n",
      "  warnings.warn(\n",
      "c:\\miniconda3\\envs\\Regression\\lib\\site-packages\\arviz\\stats\\stats.py:812: UserWarning: Estimated shape parameter of Pareto distribution is greater than 0.7 for one or more samples. You should consider using a more robust model, this is because importance sampling is less likely to work well if the marginal posterior and LOO posterior are very different. This is more likely to happen with a non-robust model and highly influential observations.\n",
      "  warnings.warn(\n"
     ]
    },
    {
     "data": {
      "text/html": [
       "<div>\n",
       "<style scoped>\n",
       "    .dataframe tbody tr th:only-of-type {\n",
       "        vertical-align: middle;\n",
       "    }\n",
       "\n",
       "    .dataframe tbody tr th {\n",
       "        vertical-align: top;\n",
       "    }\n",
       "\n",
       "    .dataframe thead th {\n",
       "        text-align: right;\n",
       "    }\n",
       "</style>\n",
       "<table border=\"1\" class=\"dataframe\">\n",
       "  <thead>\n",
       "    <tr style=\"text-align: right;\">\n",
       "      <th></th>\n",
       "      <th>rank</th>\n",
       "      <th>loo</th>\n",
       "      <th>p_loo</th>\n",
       "      <th>d_loo</th>\n",
       "      <th>weight</th>\n",
       "      <th>se</th>\n",
       "      <th>dse</th>\n",
       "      <th>warning</th>\n",
       "      <th>loo_scale</th>\n",
       "    </tr>\n",
       "  </thead>\n",
       "  <tbody>\n",
       "    <tr>\n",
       "      <th>True</th>\n",
       "      <td>0</td>\n",
       "      <td>52.398086</td>\n",
       "      <td>74.876416</td>\n",
       "      <td>0.000000</td>\n",
       "      <td>0.664726</td>\n",
       "      <td>17.457878</td>\n",
       "      <td>0.000000</td>\n",
       "      <td>True</td>\n",
       "      <td>log</td>\n",
       "    </tr>\n",
       "    <tr>\n",
       "      <th>False</th>\n",
       "      <td>1</td>\n",
       "      <td>49.132634</td>\n",
       "      <td>77.773201</td>\n",
       "      <td>3.265452</td>\n",
       "      <td>0.335274</td>\n",
       "      <td>16.878461</td>\n",
       "      <td>5.487503</td>\n",
       "      <td>True</td>\n",
       "      <td>log</td>\n",
       "    </tr>\n",
       "  </tbody>\n",
       "</table>\n",
       "</div>"
      ],
      "text/plain": [
       "       rank        loo      p_loo     d_loo    weight         se       dse  \\\n",
       "True      0  52.398086  74.876416  0.000000  0.664726  17.457878  0.000000   \n",
       "False     1  49.132634  77.773201  3.265452  0.335274  16.878461  5.487503   \n",
       "\n",
       "       warning loo_scale  \n",
       "True      True       log  \n",
       "False     True       log  "
      ]
     },
     "execution_count": 80,
     "metadata": {},
     "output_type": "execute_result"
    }
   ],
   "source": [
    "az.compare(idata, var_name=\"xs\")"
   ]
  }
 ],
 "metadata": {
  "kernelspec": {
   "display_name": "Python 3.9.12",
   "language": "python",
   "name": "python3"
  },
  "language_info": {
   "codemirror_mode": {
    "name": "ipython",
    "version": 3
   },
   "file_extension": ".py",
   "mimetype": "text/x-python",
   "name": "python",
   "nbconvert_exporter": "python",
   "pygments_lexer": "ipython3",
   "version": "3.9.12"
  },
  "orig_nbformat": 4,
  "vscode": {
   "interpreter": {
    "hash": "2933728268676bbd9ad49a58db33ca8e0f370feda59ea191785b1b53f5ad340c"
   }
  }
 },
 "nbformat": 4,
 "nbformat_minor": 2
}
